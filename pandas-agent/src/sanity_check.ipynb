{
 "cells": [
  {
   "cell_type": "markdown",
   "id": "146edaf1",
   "metadata": {},
   "source": [
    "This script is to double check the result of pandas dataframe agent to make sure they are correct."
   ]
  },
  {
   "cell_type": "code",
   "execution_count": 1,
   "id": "2bdbb3c5",
   "metadata": {},
   "outputs": [],
   "source": [
    "import pandas as pd"
   ]
  },
  {
   "cell_type": "code",
   "execution_count": 2,
   "id": "6bf12173",
   "metadata": {},
   "outputs": [],
   "source": [
    "df = pd.read_csv('../data/ds_salaries.csv')"
   ]
  },
  {
   "cell_type": "code",
   "execution_count": 3,
   "id": "6911d737",
   "metadata": {},
   "outputs": [
    {
     "data": {
      "text/plain": [
       "(3755, 11)"
      ]
     },
     "execution_count": 3,
     "metadata": {},
     "output_type": "execute_result"
    }
   ],
   "source": [
    "# how many rows and columns are there in the dataset?\n",
    "\n",
    "df.shape"
   ]
  },
  {
   "cell_type": "code",
   "execution_count": 4,
   "id": "cbe29552",
   "metadata": {},
   "outputs": [
    {
     "data": {
      "text/plain": [
       "work_year             0\n",
       "experience_level      0\n",
       "employment_type       0\n",
       "job_title             0\n",
       "salary                0\n",
       "salary_currency       0\n",
       "salary_in_usd         0\n",
       "employee_residence    0\n",
       "remote_ratio          0\n",
       "company_location      0\n",
       "company_size          0\n",
       "dtype: int64"
      ]
     },
     "execution_count": 4,
     "metadata": {},
     "output_type": "execute_result"
    }
   ],
   "source": [
    "# are there any missing values?\n",
    "\n",
    "df.isnull().sum()"
   ]
  },
  {
   "cell_type": "code",
   "execution_count": 5,
   "id": "5e0635d4",
   "metadata": {},
   "outputs": [
    {
     "data": {
      "text/plain": [
       "Index(['work_year', 'experience_level', 'employment_type', 'job_title',\n",
       "       'salary', 'salary_currency', 'salary_in_usd', 'employee_residence',\n",
       "       'remote_ratio', 'company_location', 'company_size'],\n",
       "      dtype='object')"
      ]
     },
     "execution_count": 5,
     "metadata": {},
     "output_type": "execute_result"
    }
   ],
   "source": [
    "# what are the columns?\n",
    "\n",
    "df.columns"
   ]
  },
  {
   "cell_type": "code",
   "execution_count": 6,
   "id": "e6c1b46b",
   "metadata": {},
   "outputs": [
    {
     "data": {
      "text/plain": [
       "work_year                4\n",
       "experience_level         4\n",
       "employment_type          4\n",
       "job_title               93\n",
       "salary                 815\n",
       "salary_currency         20\n",
       "salary_in_usd         1035\n",
       "employee_residence      78\n",
       "remote_ratio             3\n",
       "company_location        72\n",
       "company_size             3\n",
       "dtype: int64"
      ]
     },
     "execution_count": 6,
     "metadata": {},
     "output_type": "execute_result"
    }
   ],
   "source": [
    "# how many categories are in each column?\n",
    "\n",
    "df.nunique()"
   ]
  },
  {
   "cell_type": "code",
   "execution_count": 7,
   "id": "f63cfff1",
   "metadata": {},
   "outputs": [
    {
     "data": {
      "text/plain": [
       "job_title\n",
       "Head of Machine Learning    6000000.0\n",
       "Principal Data Architect    3000000.0\n",
       "Data Analytics Lead          922500.0\n",
       "Power BI Developer           400000.0\n",
       "Data Science Tech Lead       375000.0\n",
       "Name: salary, dtype: float64"
      ]
     },
     "execution_count": 7,
     "metadata": {},
     "output_type": "execute_result"
    }
   ],
   "source": [
    "# which are the top 5 jobs that have the highest median salary?\n",
    "\n",
    "df.groupby('job_title')['salary'].median().sort_values(ascending=False).head()"
   ]
  },
  {
   "cell_type": "code",
   "execution_count": 8,
   "id": "4b41a875",
   "metadata": {},
   "outputs": [
    {
     "data": {
      "text/plain": [
       "employment_type\n",
       "FT    0.995238\n",
       "PT    0.003571\n",
       "FL    0.001190\n",
       "Name: proportion, dtype: float64"
      ]
     },
     "execution_count": 8,
     "metadata": {},
     "output_type": "execute_result"
    }
   ],
   "source": [
    "# what is the percentage of data scientists who are working full time?\n",
    "\n",
    "df[df['job_title'] == 'Data Scientist']['employment_type'].value_counts(normalize=True)"
   ]
  },
  {
   "cell_type": "code",
   "execution_count": 15,
   "id": "c8d2b152",
   "metadata": {},
   "outputs": [
    {
     "data": {
      "text/plain": [
       "company_location\n",
       "AE    100\n",
       "AL     50\n",
       "AM      0\n",
       "AR    100\n",
       "AS    100\n",
       "     ... \n",
       "TH    100\n",
       "TR    100\n",
       "UA    100\n",
       "US    100\n",
       "VN      0\n",
       "Name: remote_ratio, Length: 72, dtype: int64"
      ]
     },
     "execution_count": 15,
     "metadata": {},
     "output_type": "execute_result"
    }
   ],
   "source": [
    "# which company location has the most employees working remotely? \n",
    "# Note: the answer is wrong. There are a lot of companies that has the same value (100), and the last one was taken as answer.\n",
    "\n",
    "df.groupby('company_location')['remote_ratio'].max()"
   ]
  },
  {
   "cell_type": "code",
   "execution_count": 16,
   "id": "daa10eb1",
   "metadata": {},
   "outputs": [
    {
     "data": {
      "text/plain": [
       "company_location\n",
       "AE    100\n",
       "GR    100\n",
       "HU    100\n",
       "ID    100\n",
       "IL    100\n",
       "IN    100\n",
       "IR    100\n",
       "JP    100\n",
       "KE    100\n",
       "LU    100\n",
       "MX    100\n",
       "MY    100\n",
       "NG    100\n",
       "NL    100\n",
       "PH    100\n",
       "PK    100\n",
       "PL    100\n",
       "PR    100\n",
       "PT    100\n",
       "SE    100\n",
       "SG    100\n",
       "SI    100\n",
       "SK    100\n",
       "TH    100\n",
       "TR    100\n",
       "UA    100\n",
       "US    100\n",
       "HR    100\n",
       "IE    100\n",
       "CF    100\n",
       "BE    100\n",
       "CR    100\n",
       "GB    100\n",
       "CL    100\n",
       "AU    100\n",
       "CH    100\n",
       "CZ    100\n",
       "AS    100\n",
       "DE    100\n",
       "DK    100\n",
       "CO    100\n",
       "CA    100\n",
       "EE    100\n",
       "EG    100\n",
       "BR    100\n",
       "ES    100\n",
       "FI    100\n",
       "FR    100\n",
       "AR    100\n",
       "BS     50\n",
       "Name: remote_ratio, dtype: int64"
      ]
     },
     "execution_count": 16,
     "metadata": {},
     "output_type": "execute_result"
    }
   ],
   "source": [
    "df.groupby('company_location')['remote_ratio'].max().sort_values(ascending=False).head(50)"
   ]
  },
  {
   "cell_type": "code",
   "execution_count": 17,
   "id": "564ec166",
   "metadata": {},
   "outputs": [
    {
     "data": {
      "text/html": [
       "<div>\n",
       "<style scoped>\n",
       "    .dataframe tbody tr th:only-of-type {\n",
       "        vertical-align: middle;\n",
       "    }\n",
       "\n",
       "    .dataframe tbody tr th {\n",
       "        vertical-align: top;\n",
       "    }\n",
       "\n",
       "    .dataframe thead th {\n",
       "        text-align: right;\n",
       "    }\n",
       "</style>\n",
       "<table border=\"1\" class=\"dataframe\">\n",
       "  <thead>\n",
       "    <tr style=\"text-align: right;\">\n",
       "      <th></th>\n",
       "      <th>work_year</th>\n",
       "      <th>experience_level</th>\n",
       "      <th>employment_type</th>\n",
       "      <th>job_title</th>\n",
       "      <th>salary</th>\n",
       "      <th>salary_currency</th>\n",
       "      <th>salary_in_usd</th>\n",
       "      <th>employee_residence</th>\n",
       "      <th>remote_ratio</th>\n",
       "      <th>company_location</th>\n",
       "      <th>company_size</th>\n",
       "    </tr>\n",
       "  </thead>\n",
       "  <tbody>\n",
       "    <tr>\n",
       "      <th>0</th>\n",
       "      <td>2023</td>\n",
       "      <td>SE</td>\n",
       "      <td>FT</td>\n",
       "      <td>Principal Data Scientist</td>\n",
       "      <td>80000</td>\n",
       "      <td>EUR</td>\n",
       "      <td>85847</td>\n",
       "      <td>ES</td>\n",
       "      <td>100</td>\n",
       "      <td>ES</td>\n",
       "      <td>L</td>\n",
       "    </tr>\n",
       "    <tr>\n",
       "      <th>3</th>\n",
       "      <td>2023</td>\n",
       "      <td>SE</td>\n",
       "      <td>FT</td>\n",
       "      <td>Data Scientist</td>\n",
       "      <td>175000</td>\n",
       "      <td>USD</td>\n",
       "      <td>175000</td>\n",
       "      <td>CA</td>\n",
       "      <td>100</td>\n",
       "      <td>CA</td>\n",
       "      <td>M</td>\n",
       "    </tr>\n",
       "    <tr>\n",
       "      <th>4</th>\n",
       "      <td>2023</td>\n",
       "      <td>SE</td>\n",
       "      <td>FT</td>\n",
       "      <td>Data Scientist</td>\n",
       "      <td>120000</td>\n",
       "      <td>USD</td>\n",
       "      <td>120000</td>\n",
       "      <td>CA</td>\n",
       "      <td>100</td>\n",
       "      <td>CA</td>\n",
       "      <td>M</td>\n",
       "    </tr>\n",
       "    <tr>\n",
       "      <th>5</th>\n",
       "      <td>2023</td>\n",
       "      <td>SE</td>\n",
       "      <td>FT</td>\n",
       "      <td>Applied Scientist</td>\n",
       "      <td>222200</td>\n",
       "      <td>USD</td>\n",
       "      <td>222200</td>\n",
       "      <td>US</td>\n",
       "      <td>0</td>\n",
       "      <td>US</td>\n",
       "      <td>L</td>\n",
       "    </tr>\n",
       "    <tr>\n",
       "      <th>6</th>\n",
       "      <td>2023</td>\n",
       "      <td>SE</td>\n",
       "      <td>FT</td>\n",
       "      <td>Applied Scientist</td>\n",
       "      <td>136000</td>\n",
       "      <td>USD</td>\n",
       "      <td>136000</td>\n",
       "      <td>US</td>\n",
       "      <td>0</td>\n",
       "      <td>US</td>\n",
       "      <td>L</td>\n",
       "    </tr>\n",
       "    <tr>\n",
       "      <th>...</th>\n",
       "      <td>...</td>\n",
       "      <td>...</td>\n",
       "      <td>...</td>\n",
       "      <td>...</td>\n",
       "      <td>...</td>\n",
       "      <td>...</td>\n",
       "      <td>...</td>\n",
       "      <td>...</td>\n",
       "      <td>...</td>\n",
       "      <td>...</td>\n",
       "      <td>...</td>\n",
       "    </tr>\n",
       "    <tr>\n",
       "      <th>3744</th>\n",
       "      <td>2020</td>\n",
       "      <td>SE</td>\n",
       "      <td>FT</td>\n",
       "      <td>Machine Learning Engineer</td>\n",
       "      <td>40000</td>\n",
       "      <td>EUR</td>\n",
       "      <td>45618</td>\n",
       "      <td>HR</td>\n",
       "      <td>100</td>\n",
       "      <td>HR</td>\n",
       "      <td>S</td>\n",
       "    </tr>\n",
       "    <tr>\n",
       "      <th>3745</th>\n",
       "      <td>2021</td>\n",
       "      <td>SE</td>\n",
       "      <td>FT</td>\n",
       "      <td>Director of Data Science</td>\n",
       "      <td>168000</td>\n",
       "      <td>USD</td>\n",
       "      <td>168000</td>\n",
       "      <td>JP</td>\n",
       "      <td>0</td>\n",
       "      <td>JP</td>\n",
       "      <td>S</td>\n",
       "    </tr>\n",
       "    <tr>\n",
       "      <th>3749</th>\n",
       "      <td>2021</td>\n",
       "      <td>SE</td>\n",
       "      <td>FT</td>\n",
       "      <td>Data Specialist</td>\n",
       "      <td>165000</td>\n",
       "      <td>USD</td>\n",
       "      <td>165000</td>\n",
       "      <td>US</td>\n",
       "      <td>100</td>\n",
       "      <td>US</td>\n",
       "      <td>L</td>\n",
       "    </tr>\n",
       "    <tr>\n",
       "      <th>3750</th>\n",
       "      <td>2020</td>\n",
       "      <td>SE</td>\n",
       "      <td>FT</td>\n",
       "      <td>Data Scientist</td>\n",
       "      <td>412000</td>\n",
       "      <td>USD</td>\n",
       "      <td>412000</td>\n",
       "      <td>US</td>\n",
       "      <td>100</td>\n",
       "      <td>US</td>\n",
       "      <td>L</td>\n",
       "    </tr>\n",
       "    <tr>\n",
       "      <th>3754</th>\n",
       "      <td>2021</td>\n",
       "      <td>SE</td>\n",
       "      <td>FT</td>\n",
       "      <td>Data Science Manager</td>\n",
       "      <td>7000000</td>\n",
       "      <td>INR</td>\n",
       "      <td>94665</td>\n",
       "      <td>IN</td>\n",
       "      <td>50</td>\n",
       "      <td>IN</td>\n",
       "      <td>L</td>\n",
       "    </tr>\n",
       "  </tbody>\n",
       "</table>\n",
       "<p>2516 rows × 11 columns</p>\n",
       "</div>"
      ],
      "text/plain": [
       "      work_year experience_level employment_type                  job_title  \\\n",
       "0          2023               SE              FT   Principal Data Scientist   \n",
       "3          2023               SE              FT             Data Scientist   \n",
       "4          2023               SE              FT             Data Scientist   \n",
       "5          2023               SE              FT          Applied Scientist   \n",
       "6          2023               SE              FT          Applied Scientist   \n",
       "...         ...              ...             ...                        ...   \n",
       "3744       2020               SE              FT  Machine Learning Engineer   \n",
       "3745       2021               SE              FT   Director of Data Science   \n",
       "3749       2021               SE              FT            Data Specialist   \n",
       "3750       2020               SE              FT             Data Scientist   \n",
       "3754       2021               SE              FT       Data Science Manager   \n",
       "\n",
       "       salary salary_currency  salary_in_usd employee_residence  remote_ratio  \\\n",
       "0       80000             EUR          85847                 ES           100   \n",
       "3      175000             USD         175000                 CA           100   \n",
       "4      120000             USD         120000                 CA           100   \n",
       "5      222200             USD         222200                 US             0   \n",
       "6      136000             USD         136000                 US             0   \n",
       "...       ...             ...            ...                ...           ...   \n",
       "3744    40000             EUR          45618                 HR           100   \n",
       "3745   168000             USD         168000                 JP             0   \n",
       "3749   165000             USD         165000                 US           100   \n",
       "3750   412000             USD         412000                 US           100   \n",
       "3754  7000000             INR          94665                 IN            50   \n",
       "\n",
       "     company_location company_size  \n",
       "0                  ES            L  \n",
       "3                  CA            M  \n",
       "4                  CA            M  \n",
       "5                  US            L  \n",
       "6                  US            L  \n",
       "...               ...          ...  \n",
       "3744               HR            S  \n",
       "3745               JP            S  \n",
       "3749               US            L  \n",
       "3750               US            L  \n",
       "3754               IN            L  \n",
       "\n",
       "[2516 rows x 11 columns]"
      ]
     },
     "execution_count": 17,
     "metadata": {},
     "output_type": "execute_result"
    }
   ],
   "source": [
    "# what is the most frequent job position for senior-level employees?\n",
    "\n",
    "df[df['experience_level'] == 'SE']"
   ]
  },
  {
   "cell_type": "code",
   "execution_count": 28,
   "id": "3f5b3c29",
   "metadata": {},
   "outputs": [
    {
     "data": {
      "text/plain": [
       "0    Data Engineer\n",
       "Name: job_title, dtype: object"
      ]
     },
     "execution_count": 28,
     "metadata": {},
     "output_type": "execute_result"
    }
   ],
   "source": [
    "df[df['experience_level'] == 'SE']['job_title'].mode()"
   ]
  },
  {
   "cell_type": "code",
   "execution_count": 29,
   "id": "679f8cb6",
   "metadata": {},
   "outputs": [
    {
     "data": {
      "text/plain": [
       "company_size\n",
       "M    3153\n",
       "L     454\n",
       "S     148\n",
       "Name: count, dtype: int64"
      ]
     },
     "execution_count": 29,
     "metadata": {},
     "output_type": "execute_result"
    }
   ],
   "source": [
    "# what are the categories of company size? What is the proportion of employees they have? What is the total salary they pay for their employees?\n",
    "\n",
    "df['company_size'].value_counts()"
   ]
  },
  {
   "cell_type": "code",
   "execution_count": 30,
   "id": "b52fb3dd",
   "metadata": {},
   "outputs": [
    {
     "data": {
      "text/plain": [
       "company_size\n",
       "L     53708646\n",
       "M    451290619\n",
       "S     11577549\n",
       "Name: salary_in_usd, dtype: int64"
      ]
     },
     "execution_count": 30,
     "metadata": {},
     "output_type": "execute_result"
    }
   ],
   "source": [
    "df.groupby('company_size')['salary_in_usd'].sum()"
   ]
  },
  {
   "cell_type": "code",
   "execution_count": 31,
   "id": "20e474ae",
   "metadata": {},
   "outputs": [
    {
     "data": {
      "text/plain": [
       "<Axes: xlabel='company_size'>"
      ]
     },
     "execution_count": 31,
     "metadata": {},
     "output_type": "execute_result"
    },
    {
     "data": {
      "image/png": "[encoded data removed]",
      "text/plain": [
       "<Figure size 640x480 with 1 Axes>"
      ]
     },
     "metadata": {},
     "output_type": "display_data"
    }
   ],
   "source": [
    "# get median salaries of senior-level data scientists for each company size and plot them in a bar plot.\n",
    "\n",
    "df[df['experience_level'] == 'SE'].groupby('company_size')['salary_in_usd'].median().plot.bar()"
   ]
  },
  {
   "cell_type": "code",
   "execution_count": 32,
   "id": "11687223",
   "metadata": {},
   "outputs": [],
   "source": [
    "df_2022 = df[df['work_year'] == 2022]\n",
    "df_2023 = df[df['work_year'] == 2023]"
   ]
  },
  {
   "cell_type": "code",
   "execution_count": 34,
   "id": "ee444e6d",
   "metadata": {},
   "outputs": [
    {
     "data": {
      "text/plain": [
       "(1664, 11)"
      ]
     },
     "execution_count": 34,
     "metadata": {},
     "output_type": "execute_result"
    }
   ],
   "source": [
    "# how many rows and columns are there for each dataframe?\n",
    "\n",
    "df_2022.shape"
   ]
  },
  {
   "cell_type": "code",
   "execution_count": 35,
   "id": "e7f70214",
   "metadata": {},
   "outputs": [
    {
     "data": {
      "text/plain": [
       "(1785, 11)"
      ]
     },
     "execution_count": 35,
     "metadata": {},
     "output_type": "execute_result"
    }
   ],
   "source": [
    "df_2023.shape"
   ]
  },
  {
   "cell_type": "code",
   "execution_count": 37,
   "id": "bbbd1658",
   "metadata": {},
   "outputs": [
    {
     "data": {
      "text/plain": [
       "140400.0"
      ]
     },
     "execution_count": 37,
     "metadata": {},
     "output_type": "execute_result"
    }
   ],
   "source": [
    "# what are the differences in median salary for data scientists among the dataframes?\n",
    "\n",
    "result_1 = df_2022[df_2022['job_title'] == 'Data Scientist']['salary_in_usd'].median()\n",
    "result_1"
   ]
  },
  {
   "cell_type": "code",
   "execution_count": 38,
   "id": "bb277a48",
   "metadata": {},
   "outputs": [
    {
     "data": {
      "text/plain": [
       "155500.0"
      ]
     },
     "execution_count": 38,
     "metadata": {},
     "output_type": "execute_result"
    }
   ],
   "source": [
    "result_2 = df_2023[df_2023['job_title'] == 'Data Scientist']['salary_in_usd'].median()\n",
    "result_2"
   ]
  },
  {
   "cell_type": "code",
   "execution_count": 39,
   "id": "7ab860ec",
   "metadata": {},
   "outputs": [
    {
     "data": {
      "text/plain": [
       "15100.0"
      ]
     },
     "execution_count": 39,
     "metadata": {},
     "output_type": "execute_result"
    }
   ],
   "source": [
    "result_2 - result_1"
   ]
  },
  {
   "cell_type": "code",
   "execution_count": 40,
   "id": "3d2d1177",
   "metadata": {},
   "outputs": [
    {
     "data": {
      "text/plain": [
       "experience_level\n",
       "SE    1138\n",
       "MI     361\n",
       "EN     124\n",
       "EX      41\n",
       "Name: count, dtype: int64"
      ]
     },
     "execution_count": 40,
     "metadata": {},
     "output_type": "execute_result"
    }
   ],
   "source": [
    "# how many people were hired for each of the dataframe? what are the percentages of experience levels?\n",
    "# Note: answer to the first question is incorrect.\n",
    "\n",
    "df_2022['experience_level'].value_counts()"
   ]
  },
  {
   "cell_type": "code",
   "execution_count": 41,
   "id": "d626c451",
   "metadata": {},
   "outputs": [
    {
     "data": {
      "text/plain": [
       "experience_level\n",
       "SE    0.683894\n",
       "MI    0.216947\n",
       "EN    0.074519\n",
       "EX    0.024639\n",
       "Name: proportion, dtype: float64"
      ]
     },
     "execution_count": 41,
     "metadata": {},
     "output_type": "execute_result"
    }
   ],
   "source": [
    "df_2022['experience_level'].value_counts(normalize=True)"
   ]
  },
  {
   "cell_type": "code",
   "execution_count": 42,
   "id": "4d9c33c3",
   "metadata": {},
   "outputs": [
    {
     "data": {
      "text/plain": [
       "experience_level\n",
       "SE    1287\n",
       "MI     320\n",
       "EN     118\n",
       "EX      60\n",
       "Name: count, dtype: int64"
      ]
     },
     "execution_count": 42,
     "metadata": {},
     "output_type": "execute_result"
    }
   ],
   "source": [
    "df_2023['experience_level'].value_counts()"
   ]
  },
  {
   "cell_type": "code",
   "execution_count": 43,
   "id": "ff508afc",
   "metadata": {},
   "outputs": [
    {
     "data": {
      "text/plain": [
       "experience_level\n",
       "SE    0.721008\n",
       "MI    0.179272\n",
       "EN    0.066106\n",
       "EX    0.033613\n",
       "Name: proportion, dtype: float64"
      ]
     },
     "execution_count": 43,
     "metadata": {},
     "output_type": "execute_result"
    }
   ],
   "source": [
    "df_2023['experience_level'].value_counts(normalize=True)"
   ]
  },
  {
   "cell_type": "code",
   "execution_count": 44,
   "id": "9665546c",
   "metadata": {},
   "outputs": [
    {
     "data": {
      "text/plain": [
       "(1664, 11)"
      ]
     },
     "execution_count": 44,
     "metadata": {},
     "output_type": "execute_result"
    }
   ],
   "source": [
    "df_2022.shape"
   ]
  },
  {
   "cell_type": "code",
   "execution_count": 45,
   "id": "ffe48ca6",
   "metadata": {},
   "outputs": [
    {
     "data": {
      "text/plain": [
       "(1785, 11)"
      ]
     },
     "execution_count": 45,
     "metadata": {},
     "output_type": "execute_result"
    }
   ],
   "source": [
    "df_2023.shape"
   ]
  },
  {
   "cell_type": "code",
   "execution_count": 46,
   "id": "76db2441",
   "metadata": {},
   "outputs": [
    {
     "data": {
      "text/plain": [
       "165000.0"
      ]
     },
     "execution_count": 46,
     "metadata": {},
     "output_type": "execute_result"
    }
   ],
   "source": [
    "# what is the median salary of senior data scientists for df2, given there is a 10% increment?\n",
    "\n",
    "df_2023[(df_2023['experience_level'] == 'SE') & (df_2023['job_title'] == 'Data Scientist')]['salary_in_usd'].median()"
   ]
  },
  {
   "cell_type": "code",
   "execution_count": 48,
   "id": "26952140",
   "metadata": {},
   "outputs": [
    {
     "data": {
      "text/plain": [
       "181500.00000000003"
      ]
     },
     "execution_count": 48,
     "metadata": {},
     "output_type": "execute_result"
    }
   ],
   "source": [
    "df_2023[(df_2023['experience_level'] == 'SE') & (df_2023['job_title'] == 'Data Scientist')]['salary_in_usd'].median() * 1.1"
   ]
  },
  {
   "cell_type": "code",
   "execution_count": null,
   "id": "2371e393",
   "metadata": {},
   "outputs": [],
   "source": []
  }
 ],
 "metadata": {
  "kernelspec": {
   "display_name": "Python 3 (ipykernel)",
   "language": "python",
   "name": "python3"
  },
  "language_info": {
   "codemirror_mode": {
    "name": "ipython",
    "version": 3
   },
   "file_extension": ".py",
   "mimetype": "text/x-python",
   "name": "python",
   "nbconvert_exporter": "python",
   "pygments_lexer": "ipython3",
   "version": "3.9.16"
  }
 },
 "nbformat": 4,
 "nbformat_minor": 5
}
